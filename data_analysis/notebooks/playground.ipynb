{
 "cells": [
  {
   "cell_type": "code",
   "execution_count": 1,
   "metadata": {},
   "outputs": [],
   "source": [
    "import pandas as pd\n",
    "from geopandas import GeoSeries, GeoDataFrame"
   ]
  },
  {
   "cell_type": "markdown",
   "metadata": {},
   "source": [
    "# Read data"
   ]
  },
  {
   "cell_type": "code",
   "execution_count": 2,
   "metadata": {},
   "outputs": [],
   "source": [
    "spire_positions_file_path = \"../../data/spire_positions_subset_02022024.csv\""
   ]
  },
  {
   "cell_type": "code",
   "execution_count": 3,
   "metadata": {},
   "outputs": [],
   "source": [
    "spire_positions_df = pd.read_csv(\n",
    "    spire_positions_file_path,\n",
    "    parse_dates=[\n",
    "        \"timestamp\",\n",
    "        \"last_position_time\",\n",
    "        \"voyage_eta\"\n",
    "    ],\n",
    "    infer_datetime_format=True,\n",
    "    dtype={\n",
    "        \"IMO\": str,\n",
    "        \"mmsi\": str,\n",
    "    }\n",
    ")"
   ]
  },
  {
   "cell_type": "code",
   "execution_count": 4,
   "metadata": {},
   "outputs": [
    {
     "name": "stdout",
     "output_type": "stream",
     "text": [
      "<class 'pandas.core.frame.DataFrame'>\n",
      "RangeIndex: 8173 entries, 0 to 8172\n",
      "Data columns (total 20 columns):\n",
      " #   Column              Non-Null Count  Dtype         \n",
      "---  ------              --------------  -----         \n",
      " 0   id                  8173 non-null   object        \n",
      " 1   timestamp           8173 non-null   datetime64[ns]\n",
      " 2   ship_name           8173 non-null   object        \n",
      " 3   IMO                 8173 non-null   object        \n",
      " 4   vessel_id           8173 non-null   int64         \n",
      " 5   mmsi                8173 non-null   object        \n",
      " 6   last_position_time  8173 non-null   datetime64[ns]\n",
      " 7   position            8173 non-null   object        \n",
      " 8   speed               8173 non-null   float64       \n",
      " 9   navigation_status   8173 non-null   object        \n",
      " 10  vessel_length       8173 non-null   int64         \n",
      " 11  vessel_width        8173 non-null   int64         \n",
      " 12  voyage_destination  7672 non-null   object        \n",
      " 13  voyage_draught      7430 non-null   float64       \n",
      " 14  voyage_eta          6687 non-null   datetime64[ns]\n",
      " 15  accuracy            7857 non-null   object        \n",
      " 16  position_sensors    8173 non-null   object        \n",
      " 17  course              8173 non-null   float64       \n",
      " 18  heading             5944 non-null   float64       \n",
      " 19  rot                 6313 non-null   float64       \n",
      "dtypes: datetime64[ns](3), float64(5), int64(3), object(9)\n",
      "memory usage: 1.2+ MB\n"
     ]
    }
   ],
   "source": [
    "spire_positions_df.info()"
   ]
  },
  {
   "cell_type": "code",
   "execution_count": 5,
   "metadata": {},
   "outputs": [
    {
     "data": {
      "text/html": [
       "<div>\n",
       "<style scoped>\n",
       "    .dataframe tbody tr th:only-of-type {\n",
       "        vertical-align: middle;\n",
       "    }\n",
       "\n",
       "    .dataframe tbody tr th {\n",
       "        vertical-align: top;\n",
       "    }\n",
       "\n",
       "    .dataframe thead th {\n",
       "        text-align: right;\n",
       "    }\n",
       "</style>\n",
       "<table border=\"1\" class=\"dataframe\">\n",
       "  <thead>\n",
       "    <tr style=\"text-align: right;\">\n",
       "      <th></th>\n",
       "      <th>id</th>\n",
       "      <th>timestamp</th>\n",
       "      <th>ship_name</th>\n",
       "      <th>IMO</th>\n",
       "      <th>vessel_id</th>\n",
       "      <th>mmsi</th>\n",
       "      <th>last_position_time</th>\n",
       "      <th>position</th>\n",
       "      <th>speed</th>\n",
       "      <th>navigation_status</th>\n",
       "      <th>vessel_length</th>\n",
       "      <th>vessel_width</th>\n",
       "      <th>voyage_destination</th>\n",
       "      <th>voyage_draught</th>\n",
       "      <th>voyage_eta</th>\n",
       "      <th>accuracy</th>\n",
       "      <th>position_sensors</th>\n",
       "      <th>course</th>\n",
       "      <th>heading</th>\n",
       "      <th>rot</th>\n",
       "    </tr>\n",
       "  </thead>\n",
       "  <tbody>\n",
       "    <tr>\n",
       "      <th>0</th>\n",
       "      <td>5997bb31-ec64-4c7b-8b41-1856ac09da85</td>\n",
       "      <td>2024-01-26 00:15:00</td>\n",
       "      <td>ANNELIES ILENA</td>\n",
       "      <td>9204556</td>\n",
       "      <td>1431</td>\n",
       "      <td>261084090</td>\n",
       "      <td>2024-01-23 11:11:01</td>\n",
       "      <td>0101000020E6100000184339D1AE521240ACD75F3C243B...</td>\n",
       "      <td>0.0</td>\n",
       "      <td>MOORED</td>\n",
       "      <td>24</td>\n",
       "      <td>145</td>\n",
       "      <td>IJMUIDEN</td>\n",
       "      <td>8.5</td>\n",
       "      <td>2023-12-12 02:00:00</td>\n",
       "      <td>LOW</td>\n",
       "      <td>TERRESTRIAL</td>\n",
       "      <td>324.4</td>\n",
       "      <td>212.0</td>\n",
       "      <td>0.0</td>\n",
       "    </tr>\n",
       "    <tr>\n",
       "      <th>1</th>\n",
       "      <td>0aaec083-c449-4698-9cdf-2b793b368ce8</td>\n",
       "      <td>2024-01-26 00:15:00</td>\n",
       "      <td>UK153 LUB SENIOR</td>\n",
       "      <td>9599731</td>\n",
       "      <td>1280</td>\n",
       "      <td>246749000</td>\n",
       "      <td>2024-01-25 18:49:58</td>\n",
       "      <td>0101000020E61000007F6993BBB664F93FA80018CFA05D...</td>\n",
       "      <td>0.0</td>\n",
       "      <td>ENGAGED_IN_FISHING</td>\n",
       "      <td>7</td>\n",
       "      <td>26</td>\n",
       "      <td>FISHING GROUND</td>\n",
       "      <td>5.0</td>\n",
       "      <td>2023-08-21 00:00:00</td>\n",
       "      <td>LOW</td>\n",
       "      <td>TERRESTRIAL</td>\n",
       "      <td>104.1</td>\n",
       "      <td>121.0</td>\n",
       "      <td>0.0</td>\n",
       "    </tr>\n",
       "    <tr>\n",
       "      <th>2</th>\n",
       "      <td>76ca3c41-7d70-4e7d-8e39-d0f21cfc6ff2</td>\n",
       "      <td>2024-01-26 00:15:00</td>\n",
       "      <td>SL-9 JOHANNA</td>\n",
       "      <td>7928835</td>\n",
       "      <td>1194</td>\n",
       "      <td>244938000</td>\n",
       "      <td>2024-01-25 17:13:17</td>\n",
       "      <td>0101000020E610000002DA1497FC62F93F225FD769035D...</td>\n",
       "      <td>0.0</td>\n",
       "      <td>NOT_DEFINED_DEFAULT</td>\n",
       "      <td>8</td>\n",
       "      <td>35</td>\n",
       "      <td>FISHING GROUNDS</td>\n",
       "      <td>4.0</td>\n",
       "      <td>NaT</td>\n",
       "      <td>NaN</td>\n",
       "      <td>SATELLITE</td>\n",
       "      <td>299.0</td>\n",
       "      <td>NaN</td>\n",
       "      <td>NaN</td>\n",
       "    </tr>\n",
       "    <tr>\n",
       "      <th>3</th>\n",
       "      <td>e589c17d-fa97-4af4-8463-c0e299ec6489</td>\n",
       "      <td>2024-01-26 00:15:00</td>\n",
       "      <td>PARADANTA PRIMERO</td>\n",
       "      <td>8516043</td>\n",
       "      <td>621</td>\n",
       "      <td>224378000</td>\n",
       "      <td>2024-01-26 00:10:35</td>\n",
       "      <td>0101000020E6100000E82531CE80194CC01B12F758FA72...</td>\n",
       "      <td>0.0</td>\n",
       "      <td>MOORED</td>\n",
       "      <td>10</td>\n",
       "      <td>58</td>\n",
       "      <td>CALADEROS</td>\n",
       "      <td>6.6</td>\n",
       "      <td>NaT</td>\n",
       "      <td>LOW</td>\n",
       "      <td>TERRESTRIAL</td>\n",
       "      <td>61.0</td>\n",
       "      <td>256.0</td>\n",
       "      <td>0.0</td>\n",
       "    </tr>\n",
       "    <tr>\n",
       "      <th>4</th>\n",
       "      <td>944570d7-7279-4a2c-a00b-b151d413ed47</td>\n",
       "      <td>2024-01-26 00:15:00</td>\n",
       "      <td>HENDRIKA JACOBA</td>\n",
       "      <td>9877389</td>\n",
       "      <td>920</td>\n",
       "      <td>232031183</td>\n",
       "      <td>2024-01-25 05:08:33</td>\n",
       "      <td>0101000020E6100000A4880CAB78830040F47C9B3818D1...</td>\n",
       "      <td>0.4</td>\n",
       "      <td>ENGAGED_IN_FISHING</td>\n",
       "      <td>9</td>\n",
       "      <td>25</td>\n",
       "      <td>FISHING</td>\n",
       "      <td>4.6</td>\n",
       "      <td>2024-01-24 12:15:00</td>\n",
       "      <td>HIGH</td>\n",
       "      <td>TERRESTRIAL</td>\n",
       "      <td>53.0</td>\n",
       "      <td>150.0</td>\n",
       "      <td>0.0</td>\n",
       "    </tr>\n",
       "  </tbody>\n",
       "</table>\n",
       "</div>"
      ],
      "text/plain": [
       "                                     id           timestamp  \\\n",
       "0  5997bb31-ec64-4c7b-8b41-1856ac09da85 2024-01-26 00:15:00   \n",
       "1  0aaec083-c449-4698-9cdf-2b793b368ce8 2024-01-26 00:15:00   \n",
       "2  76ca3c41-7d70-4e7d-8e39-d0f21cfc6ff2 2024-01-26 00:15:00   \n",
       "3  e589c17d-fa97-4af4-8463-c0e299ec6489 2024-01-26 00:15:00   \n",
       "4  944570d7-7279-4a2c-a00b-b151d413ed47 2024-01-26 00:15:00   \n",
       "\n",
       "           ship_name      IMO  vessel_id       mmsi  last_position_time  \\\n",
       "0     ANNELIES ILENA  9204556       1431  261084090 2024-01-23 11:11:01   \n",
       "1   UK153 LUB SENIOR  9599731       1280  246749000 2024-01-25 18:49:58   \n",
       "2       SL-9 JOHANNA  7928835       1194  244938000 2024-01-25 17:13:17   \n",
       "3  PARADANTA PRIMERO  8516043        621  224378000 2024-01-26 00:10:35   \n",
       "4    HENDRIKA JACOBA  9877389        920  232031183 2024-01-25 05:08:33   \n",
       "\n",
       "                                            position  speed  \\\n",
       "0  0101000020E6100000184339D1AE521240ACD75F3C243B...    0.0   \n",
       "1  0101000020E61000007F6993BBB664F93FA80018CFA05D...    0.0   \n",
       "2  0101000020E610000002DA1497FC62F93F225FD769035D...    0.0   \n",
       "3  0101000020E6100000E82531CE80194CC01B12F758FA72...    0.0   \n",
       "4  0101000020E6100000A4880CAB78830040F47C9B3818D1...    0.4   \n",
       "\n",
       "     navigation_status  vessel_length  vessel_width voyage_destination  \\\n",
       "0               MOORED             24           145           IJMUIDEN   \n",
       "1   ENGAGED_IN_FISHING              7            26     FISHING GROUND   \n",
       "2  NOT_DEFINED_DEFAULT              8            35    FISHING GROUNDS   \n",
       "3               MOORED             10            58          CALADEROS   \n",
       "4   ENGAGED_IN_FISHING              9            25            FISHING   \n",
       "\n",
       "   voyage_draught          voyage_eta accuracy position_sensors  course  \\\n",
       "0             8.5 2023-12-12 02:00:00      LOW      TERRESTRIAL   324.4   \n",
       "1             5.0 2023-08-21 00:00:00      LOW      TERRESTRIAL   104.1   \n",
       "2             4.0                 NaT      NaN        SATELLITE   299.0   \n",
       "3             6.6                 NaT      LOW      TERRESTRIAL    61.0   \n",
       "4             4.6 2024-01-24 12:15:00     HIGH      TERRESTRIAL    53.0   \n",
       "\n",
       "   heading  rot  \n",
       "0    212.0  0.0  \n",
       "1    121.0  0.0  \n",
       "2      NaN  NaN  \n",
       "3    256.0  0.0  \n",
       "4    150.0  0.0  "
      ]
     },
     "execution_count": 5,
     "metadata": {},
     "output_type": "execute_result"
    }
   ],
   "source": [
    "spire_positions_df.head()"
   ]
  },
  {
   "cell_type": "markdown",
   "metadata": {},
   "source": [
    "# Analysis"
   ]
  },
  {
   "cell_type": "markdown",
   "metadata": {},
   "source": [
    "## Count records by \"mmsi\""
   ]
  },
  {
   "cell_type": "code",
   "execution_count": 6,
   "metadata": {},
   "outputs": [
    {
     "data": {
      "text/plain": [
       "mmsi\n",
       "224378000     743\n",
       "226347000     743\n",
       "227302000     743\n",
       "228066900     743\n",
       "228215800     743\n",
       "232031183     743\n",
       "244938000     743\n",
       "246749000    1486\n",
       "261084090     743\n",
       "263581000     743\n",
       "Name: id, dtype: int64"
      ]
     },
     "execution_count": 6,
     "metadata": {},
     "output_type": "execute_result"
    }
   ],
   "source": [
    "spire_positions_df.groupby(\"mmsi\")[\"id\"].count()"
   ]
  },
  {
   "cell_type": "markdown",
   "metadata": {},
   "source": [
    "## Count \"ship_name\" by \"mmsi\""
   ]
  },
  {
   "cell_type": "code",
   "execution_count": 7,
   "metadata": {},
   "outputs": [],
   "source": [
    "ship_name_by_mmsi_df = pd.DataFrame()\n",
    "ship_name_by_mmsi_df[\"ship_name_list\"] = spire_positions_df.groupby(\"mmsi\")[\"ship_name\"].unique()\n",
    "ship_name_by_mmsi_df[\"n_ship_name\"] = ship_name_by_mmsi_df[\"ship_name_list\"].str.len()"
   ]
  },
  {
   "cell_type": "code",
   "execution_count": 8,
   "metadata": {},
   "outputs": [
    {
     "data": {
      "text/html": [
       "<div>\n",
       "<style scoped>\n",
       "    .dataframe tbody tr th:only-of-type {\n",
       "        vertical-align: middle;\n",
       "    }\n",
       "\n",
       "    .dataframe tbody tr th {\n",
       "        vertical-align: top;\n",
       "    }\n",
       "\n",
       "    .dataframe thead th {\n",
       "        text-align: right;\n",
       "    }\n",
       "</style>\n",
       "<table border=\"1\" class=\"dataframe\">\n",
       "  <thead>\n",
       "    <tr style=\"text-align: right;\">\n",
       "      <th></th>\n",
       "      <th>ship_name_list</th>\n",
       "      <th>n_ship_name</th>\n",
       "    </tr>\n",
       "    <tr>\n",
       "      <th>mmsi</th>\n",
       "      <th></th>\n",
       "      <th></th>\n",
       "    </tr>\n",
       "  </thead>\n",
       "  <tbody>\n",
       "    <tr>\n",
       "      <th>224378000</th>\n",
       "      <td>[PARADANTA PRIMERO]</td>\n",
       "      <td>1</td>\n",
       "    </tr>\n",
       "    <tr>\n",
       "      <th>226347000</th>\n",
       "      <td>[SCOMBRUS]</td>\n",
       "      <td>1</td>\n",
       "    </tr>\n",
       "    <tr>\n",
       "      <th>227302000</th>\n",
       "      <td>[PRINS BERNHARD]</td>\n",
       "      <td>1</td>\n",
       "    </tr>\n",
       "    <tr>\n",
       "      <th>228066900</th>\n",
       "      <td>[F/V GEVRED]</td>\n",
       "      <td>1</td>\n",
       "    </tr>\n",
       "    <tr>\n",
       "      <th>228215800</th>\n",
       "      <td>[F/V VENT DU NORD II]</td>\n",
       "      <td>1</td>\n",
       "    </tr>\n",
       "    <tr>\n",
       "      <th>232031183</th>\n",
       "      <td>[HENDRIKA JACOBA]</td>\n",
       "      <td>1</td>\n",
       "    </tr>\n",
       "    <tr>\n",
       "      <th>244938000</th>\n",
       "      <td>[SL-9 JOHANNA]</td>\n",
       "      <td>1</td>\n",
       "    </tr>\n",
       "    <tr>\n",
       "      <th>246749000</th>\n",
       "      <td>[UK153 LUB SENIOR, UK153 LUB\"B!VYOR\"]</td>\n",
       "      <td>2</td>\n",
       "    </tr>\n",
       "    <tr>\n",
       "      <th>261084090</th>\n",
       "      <td>[ANNELIES ILENA]</td>\n",
       "      <td>1</td>\n",
       "    </tr>\n",
       "    <tr>\n",
       "      <th>263581000</th>\n",
       "      <td>[FRANCA MORTE]</td>\n",
       "      <td>1</td>\n",
       "    </tr>\n",
       "  </tbody>\n",
       "</table>\n",
       "</div>"
      ],
      "text/plain": [
       "                                  ship_name_list  n_ship_name\n",
       "mmsi                                                         \n",
       "224378000                    [PARADANTA PRIMERO]            1\n",
       "226347000                             [SCOMBRUS]            1\n",
       "227302000                       [PRINS BERNHARD]            1\n",
       "228066900                           [F/V GEVRED]            1\n",
       "228215800                  [F/V VENT DU NORD II]            1\n",
       "232031183                      [HENDRIKA JACOBA]            1\n",
       "244938000                         [SL-9 JOHANNA]            1\n",
       "246749000  [UK153 LUB SENIOR, UK153 LUB\"B!VYOR\"]            2\n",
       "261084090                       [ANNELIES ILENA]            1\n",
       "263581000                         [FRANCA MORTE]            1"
      ]
     },
     "execution_count": 8,
     "metadata": {},
     "output_type": "execute_result"
    }
   ],
   "source": [
    "ship_name_by_mmsi_df"
   ]
  },
  {
   "cell_type": "code",
   "execution_count": 9,
   "metadata": {},
   "outputs": [
    {
     "data": {
      "text/html": [
       "<div>\n",
       "<style scoped>\n",
       "    .dataframe tbody tr th:only-of-type {\n",
       "        vertical-align: middle;\n",
       "    }\n",
       "\n",
       "    .dataframe tbody tr th {\n",
       "        vertical-align: top;\n",
       "    }\n",
       "\n",
       "    .dataframe thead th {\n",
       "        text-align: right;\n",
       "    }\n",
       "</style>\n",
       "<table border=\"1\" class=\"dataframe\">\n",
       "  <thead>\n",
       "    <tr style=\"text-align: right;\">\n",
       "      <th></th>\n",
       "      <th>ship_name_list</th>\n",
       "      <th>n_ship_name</th>\n",
       "    </tr>\n",
       "    <tr>\n",
       "      <th>mmsi</th>\n",
       "      <th></th>\n",
       "      <th></th>\n",
       "    </tr>\n",
       "  </thead>\n",
       "  <tbody>\n",
       "  </tbody>\n",
       "</table>\n",
       "</div>"
      ],
      "text/plain": [
       "Empty DataFrame\n",
       "Columns: [ship_name_list, n_ship_name]\n",
       "Index: []"
      ]
     },
     "execution_count": 9,
     "metadata": {},
     "output_type": "execute_result"
    }
   ],
   "source": [
    "ship_name_by_mmsi_df[ship_name_by_mmsi_df[\"n_ship_name\"] < 1]"
   ]
  },
  {
   "cell_type": "code",
   "execution_count": 10,
   "metadata": {},
   "outputs": [
    {
     "data": {
      "text/html": [
       "<div>\n",
       "<style scoped>\n",
       "    .dataframe tbody tr th:only-of-type {\n",
       "        vertical-align: middle;\n",
       "    }\n",
       "\n",
       "    .dataframe tbody tr th {\n",
       "        vertical-align: top;\n",
       "    }\n",
       "\n",
       "    .dataframe thead th {\n",
       "        text-align: right;\n",
       "    }\n",
       "</style>\n",
       "<table border=\"1\" class=\"dataframe\">\n",
       "  <thead>\n",
       "    <tr style=\"text-align: right;\">\n",
       "      <th></th>\n",
       "      <th>ship_name_list</th>\n",
       "      <th>n_ship_name</th>\n",
       "    </tr>\n",
       "    <tr>\n",
       "      <th>mmsi</th>\n",
       "      <th></th>\n",
       "      <th></th>\n",
       "    </tr>\n",
       "  </thead>\n",
       "  <tbody>\n",
       "    <tr>\n",
       "      <th>246749000</th>\n",
       "      <td>[UK153 LUB SENIOR, UK153 LUB\"B!VYOR\"]</td>\n",
       "      <td>2</td>\n",
       "    </tr>\n",
       "  </tbody>\n",
       "</table>\n",
       "</div>"
      ],
      "text/plain": [
       "                                  ship_name_list  n_ship_name\n",
       "mmsi                                                         \n",
       "246749000  [UK153 LUB SENIOR, UK153 LUB\"B!VYOR\"]            2"
      ]
     },
     "execution_count": 10,
     "metadata": {},
     "output_type": "execute_result"
    }
   ],
   "source": [
    "ship_name_by_mmsi_df[ship_name_by_mmsi_df[\"n_ship_name\"] > 1]"
   ]
  },
  {
   "cell_type": "markdown",
   "metadata": {},
   "source": [
    "## \"speed\" (reported by AIS)"
   ]
  },
  {
   "cell_type": "code",
   "execution_count": 11,
   "metadata": {},
   "outputs": [
    {
     "data": {
      "text/plain": [
       "<Axes: ylabel='Frequency'>"
      ]
     },
     "execution_count": 11,
     "metadata": {},
     "output_type": "execute_result"
    },
    {
     "data": {
      "image/png": "[encoded data removed]",
      "text/plain": [
       "<Figure size 640x480 with 1 Axes>"
      ]
     },
     "metadata": {},
     "output_type": "display_data"
    }
   ],
   "source": [
    "spire_positions_df[\"speed\"].plot.hist()"
   ]
  },
  {
   "cell_type": "markdown",
   "metadata": {},
   "source": [
    "## Compute speed from positions and timestamps"
   ]
  },
  {
   "cell_type": "markdown",
   "metadata": {},
   "source": [
    "### Use timestamps to compute the time delta between two consecutive positions of a given \"mmsi\""
   ]
  },
  {
   "cell_type": "code",
   "execution_count": 12,
   "metadata": {},
   "outputs": [],
   "source": [
    "spire_positions_df[\"time_delta_seconds\"] = spire_positions_df.sort_values([\"mmsi\", \"last_position_time\"]).groupby(\"mmsi\")[\"last_position_time\"].diff().dt.total_seconds()"
   ]
  },
  {
   "cell_type": "code",
   "execution_count": 13,
   "metadata": {},
   "outputs": [
    {
     "data": {
      "text/html": [
       "<div>\n",
       "<style scoped>\n",
       "    .dataframe tbody tr th:only-of-type {\n",
       "        vertical-align: middle;\n",
       "    }\n",
       "\n",
       "    .dataframe tbody tr th {\n",
       "        vertical-align: top;\n",
       "    }\n",
       "\n",
       "    .dataframe thead th {\n",
       "        text-align: right;\n",
       "    }\n",
       "</style>\n",
       "<table border=\"1\" class=\"dataframe\">\n",
       "  <thead>\n",
       "    <tr style=\"text-align: right;\">\n",
       "      <th></th>\n",
       "      <th>mmsi</th>\n",
       "      <th>time_delta_seconds</th>\n",
       "    </tr>\n",
       "  </thead>\n",
       "  <tbody>\n",
       "    <tr>\n",
       "      <th>0</th>\n",
       "      <td>261084090</td>\n",
       "      <td>NaN</td>\n",
       "    </tr>\n",
       "    <tr>\n",
       "      <th>1</th>\n",
       "      <td>246749000</td>\n",
       "      <td>777874.0</td>\n",
       "    </tr>\n",
       "    <tr>\n",
       "      <th>2</th>\n",
       "      <td>244938000</td>\n",
       "      <td>NaN</td>\n",
       "    </tr>\n",
       "    <tr>\n",
       "      <th>3</th>\n",
       "      <td>224378000</td>\n",
       "      <td>NaN</td>\n",
       "    </tr>\n",
       "    <tr>\n",
       "      <th>4</th>\n",
       "      <td>232031183</td>\n",
       "      <td>NaN</td>\n",
       "    </tr>\n",
       "  </tbody>\n",
       "</table>\n",
       "</div>"
      ],
      "text/plain": [
       "        mmsi  time_delta_seconds\n",
       "0  261084090                 NaN\n",
       "1  246749000            777874.0\n",
       "2  244938000                 NaN\n",
       "3  224378000                 NaN\n",
       "4  232031183                 NaN"
      ]
     },
     "execution_count": 13,
     "metadata": {},
     "output_type": "execute_result"
    }
   ],
   "source": [
    "spire_positions_df[[\"mmsi\", \"time_delta_seconds\"]].head()"
   ]
  },
  {
   "cell_type": "markdown",
   "metadata": {},
   "source": [
    "### Compute distance by parsing points from \"position\""
   ]
  },
  {
   "cell_type": "markdown",
   "metadata": {},
   "source": [
    "TODO: Check that the distances are computed correctly"
   ]
  },
  {
   "cell_type": "code",
   "execution_count": 14,
   "metadata": {},
   "outputs": [],
   "source": [
    "def compute_distance(group_series):\n",
    "    shifted_points_series = group_series.shift()\n",
    "    return shifted_points_series.distance(group_series)"
   ]
  },
  {
   "cell_type": "code",
   "execution_count": 15,
   "metadata": {},
   "outputs": [],
   "source": [
    "spire_positions_df[\"position_geometry\"] = GeoSeries.from_wkb(spire_positions_df[\"position\"], crs='EPSG:4326').to_crs('EPSG:5234')"
   ]
  },
  {
   "cell_type": "code",
   "execution_count": 16,
   "metadata": {},
   "outputs": [],
   "source": [
    "spire_positions_df = GeoDataFrame(spire_positions_df)"
   ]
  },
  {
   "cell_type": "code",
   "execution_count": 17,
   "metadata": {},
   "outputs": [],
   "source": [
    "spire_positions_df[\"distance\"] = spire_positions_df.sort_values([\"mmsi\", \"last_position_time\"])[\"position_geometry\"].distance(spire_positions_df.sort_values([\"mmsi\", \"last_position_time\"])[\"position_geometry\"].shift())"
   ]
  },
  {
   "cell_type": "code",
   "execution_count": 18,
   "metadata": {},
   "outputs": [
    {
     "data": {
      "text/html": [
       "<div>\n",
       "<style scoped>\n",
       "    .dataframe tbody tr th:only-of-type {\n",
       "        vertical-align: middle;\n",
       "    }\n",
       "\n",
       "    .dataframe tbody tr th {\n",
       "        vertical-align: top;\n",
       "    }\n",
       "\n",
       "    .dataframe thead th {\n",
       "        text-align: right;\n",
       "    }\n",
       "</style>\n",
       "<table border=\"1\" class=\"dataframe\">\n",
       "  <thead>\n",
       "    <tr style=\"text-align: right;\">\n",
       "      <th></th>\n",
       "      <th>mmsi</th>\n",
       "      <th>time_delta_seconds</th>\n",
       "      <th>distance</th>\n",
       "    </tr>\n",
       "  </thead>\n",
       "  <tbody>\n",
       "    <tr>\n",
       "      <th>3</th>\n",
       "      <td>224378000</td>\n",
       "      <td>NaN</td>\n",
       "      <td>NaN</td>\n",
       "    </tr>\n",
       "    <tr>\n",
       "      <th>14</th>\n",
       "      <td>224378000</td>\n",
       "      <td>905.0</td>\n",
       "      <td>3.352541</td>\n",
       "    </tr>\n",
       "    <tr>\n",
       "      <th>25</th>\n",
       "      <td>224378000</td>\n",
       "      <td>895.0</td>\n",
       "      <td>2.637034</td>\n",
       "    </tr>\n",
       "    <tr>\n",
       "      <th>36</th>\n",
       "      <td>224378000</td>\n",
       "      <td>902.0</td>\n",
       "      <td>4.686830</td>\n",
       "    </tr>\n",
       "    <tr>\n",
       "      <th>47</th>\n",
       "      <td>224378000</td>\n",
       "      <td>889.0</td>\n",
       "      <td>5.373628</td>\n",
       "    </tr>\n",
       "    <tr>\n",
       "      <th>58</th>\n",
       "      <td>224378000</td>\n",
       "      <td>915.0</td>\n",
       "      <td>5.735154</td>\n",
       "    </tr>\n",
       "    <tr>\n",
       "      <th>69</th>\n",
       "      <td>224378000</td>\n",
       "      <td>916.0</td>\n",
       "      <td>1.157203</td>\n",
       "    </tr>\n",
       "    <tr>\n",
       "      <th>80</th>\n",
       "      <td>224378000</td>\n",
       "      <td>860.0</td>\n",
       "      <td>2.584555</td>\n",
       "    </tr>\n",
       "    <tr>\n",
       "      <th>91</th>\n",
       "      <td>224378000</td>\n",
       "      <td>910.0</td>\n",
       "      <td>1.880431</td>\n",
       "    </tr>\n",
       "    <tr>\n",
       "      <th>102</th>\n",
       "      <td>224378000</td>\n",
       "      <td>908.0</td>\n",
       "      <td>5.459524</td>\n",
       "    </tr>\n",
       "  </tbody>\n",
       "</table>\n",
       "</div>"
      ],
      "text/plain": [
       "          mmsi  time_delta_seconds  distance\n",
       "3    224378000                 NaN       NaN\n",
       "14   224378000               905.0  3.352541\n",
       "25   224378000               895.0  2.637034\n",
       "36   224378000               902.0  4.686830\n",
       "47   224378000               889.0  5.373628\n",
       "58   224378000               915.0  5.735154\n",
       "69   224378000               916.0  1.157203\n",
       "80   224378000               860.0  2.584555\n",
       "91   224378000               910.0  1.880431\n",
       "102  224378000               908.0  5.459524"
      ]
     },
     "execution_count": 18,
     "metadata": {},
     "output_type": "execute_result"
    }
   ],
   "source": [
    "spire_positions_df.sort_values([\"mmsi\", \"last_position_time\"])[[\"mmsi\", \"time_delta_seconds\", \"distance\"]].head(10)"
   ]
  },
  {
   "cell_type": "markdown",
   "metadata": {},
   "source": [
    "### TODO: Compute speed from distance and time delta"
   ]
  },
  {
   "cell_type": "code",
   "execution_count": null,
   "metadata": {},
   "outputs": [],
   "source": []
  }
 ],
 "metadata": {
  "kernelspec": {
   "display_name": ".venv",
   "language": "python",
   "name": "python3"
  },
  "language_info": {
   "codemirror_mode": {
    "name": "ipython",
    "version": 3
   },
   "file_extension": ".py",
   "mimetype": "text/x-python",
   "name": "python",
   "nbconvert_exporter": "python",
   "pygments_lexer": "ipython3",
   "version": "3.10.12"
  }
 },
 "nbformat": 4,
 "nbformat_minor": 2
}
