{
 "cells": [
  {
   "cell_type": "code",
   "execution_count": 1,
   "metadata": {},
   "outputs": [],
   "source": [
    "import pandas as pd\n",
    "from geopandas import GeoSeries, GeoDataFrame"
   ]
  },
  {
   "cell_type": "markdown",
   "metadata": {},
   "source": [
    "# Read data"
   ]
  },
  {
   "cell_type": "code",
   "execution_count": 2,
   "metadata": {},
   "outputs": [],
   "source": [
    "spire_positions_file_path = \"../../data/spire_positions_subset_02022024.csv\""
   ]
  },
  {
   "cell_type": "code",
   "execution_count": 3,
   "metadata": {},
   "outputs": [],
   "source": [
    "spire_positions_df = pd.read_csv(\n",
    "    spire_positions_file_path,\n",
    "    parse_dates=[\n",
    "        \"timestamp\",\n",
    "        \"last_position_time\",\n",
    "        \"voyage_eta\"\n",
    "    ],\n",
    "    infer_datetime_format=True,\n",
    "    dtype={\n",
    "        \"IMO\": str,\n",
    "        \"mmsi\": str,\n",
    "    }\n",
    ")"
   ]
  },
  {
   "cell_type": "code",
   "execution_count": 4,
   "metadata": {},
   "outputs": [
    {
     "name": "stdout",
     "output_type": "stream",
     "text": [
      "<class 'pandas.core.frame.DataFrame'>\n",
      "RangeIndex: 8173 entries, 0 to 8172\n",
      "Data columns (total 20 columns):\n",
      " #   Column              Non-Null Count  Dtype         \n",
      "---  ------              --------------  -----         \n",
      " 0   id                  8173 non-null   object        \n",
      " 1   timestamp           8173 non-null   datetime64[ns]\n",
      " 2   ship_name           8173 non-null   object        \n",
      " 3   IMO                 8173 non-null   object        \n",
      " 4   vessel_id           8173 non-null   int64         \n",
      " 5   mmsi                8173 non-null   object        \n",
      " 6   last_position_time  8173 non-null   datetime64[ns]\n",
      " 7   position            8173 non-null   object        \n",
      " 8   speed               8173 non-null   float64       \n",
      " 9   navigation_status   8173 non-null   object        \n",
      " 10  vessel_length       8173 non-null   int64         \n",
      " 11  vessel_width        8173 non-null   int64         \n",
      " 12  voyage_destination  7672 non-null   object        \n",
      " 13  voyage_draught      7430 non-null   float64       \n",
      " 14  voyage_eta          6687 non-null   datetime64[ns]\n",
      " 15  accuracy            7857 non-null   object        \n",
      " 16  position_sensors    8173 non-null   object        \n",
      " 17  course              8173 non-null   float64       \n",
      " 18  heading             5944 non-null   float64       \n",
      " 19  rot                 6313 non-null   float64       \n",
      "dtypes: datetime64[ns](3), float64(5), int64(3), object(9)\n",
      "memory usage: 1.2+ MB\n"
     ]
    }
   ],
   "source": [
    "spire_positions_df.info()"
   ]
  },
  {
   "cell_type": "code",
   "execution_count": 5,
   "metadata": {},
   "outputs": [
    {
     "data": {
      "text/html": [
       "<div>\n",
       "<style scoped>\n",
       "    .dataframe tbody tr th:only-of-type {\n",
       "        vertical-align: middle;\n",
       "    }\n",
       "\n",
       "    .dataframe tbody tr th {\n",
       "        vertical-align: top;\n",
       "    }\n",
       "\n",
       "    .dataframe thead th {\n",
       "        text-align: right;\n",
       "    }\n",
       "</style>\n",
       "<table border=\"1\" class=\"dataframe\">\n",
       "  <thead>\n",
       "    <tr style=\"text-align: right;\">\n",
       "      <th></th>\n",
       "      <th>id</th>\n",
       "      <th>timestamp</th>\n",
       "      <th>ship_name</th>\n",
       "      <th>IMO</th>\n",
       "      <th>vessel_id</th>\n",
       "      <th>mmsi</th>\n",
       "      <th>last_position_time</th>\n",
       "      <th>position</th>\n",
       "      <th>speed</th>\n",
       "      <th>navigation_status</th>\n",
       "      <th>vessel_length</th>\n",
       "      <th>vessel_width</th>\n",
       "      <th>voyage_destination</th>\n",
       "      <th>voyage_draught</th>\n",
       "      <th>voyage_eta</th>\n",
       "      <th>accuracy</th>\n",
       "      <th>position_sensors</th>\n",
       "      <th>course</th>\n",
       "      <th>heading</th>\n",
       "      <th>rot</th>\n",
       "    </tr>\n",
       "  </thead>\n",
       "  <tbody>\n",
       "    <tr>\n",
       "      <th>0</th>\n",
       "      <td>5997bb31-ec64-4c7b-8b41-1856ac09da85</td>\n",
       "      <td>2024-01-26 00:15:00</td>\n",
       "      <td>ANNELIES ILENA</td>\n",
       "      <td>9204556</td>\n",
       "      <td>1431</td>\n",
       "      <td>261084090</td>\n",
       "      <td>2024-01-23 11:11:01</td>\n",
       "      <td>0101000020E6100000184339D1AE521240ACD75F3C243B...</td>\n",
       "      <td>0.0</td>\n",
       "      <td>MOORED</td>\n",
       "      <td>24</td>\n",
       "      <td>145</td>\n",
       "      <td>IJMUIDEN</td>\n",
       "      <td>8.5</td>\n",
       "      <td>2023-12-12 02:00:00</td>\n",
       "      <td>LOW</td>\n",
       "      <td>TERRESTRIAL</td>\n",
       "      <td>324.4</td>\n",
       "      <td>212.0</td>\n",
       "      <td>0.0</td>\n",
       "    </tr>\n",
       "    <tr>\n",
       "      <th>1</th>\n",
       "      <td>0aaec083-c449-4698-9cdf-2b793b368ce8</td>\n",
       "      <td>2024-01-26 00:15:00</td>\n",
       "      <td>UK153 LUB SENIOR</td>\n",
       "      <td>9599731</td>\n",
       "      <td>1280</td>\n",
       "      <td>246749000</td>\n",
       "      <td>2024-01-25 18:49:58</td>\n",
       "      <td>0101000020E61000007F6993BBB664F93FA80018CFA05D...</td>\n",
       "      <td>0.0</td>\n",
       "      <td>ENGAGED_IN_FISHING</td>\n",
       "      <td>7</td>\n",
       "      <td>26</td>\n",
       "      <td>FISHING GROUND</td>\n",
       "      <td>5.0</td>\n",
       "      <td>2023-08-21 00:00:00</td>\n",
       "      <td>LOW</td>\n",
       "      <td>TERRESTRIAL</td>\n",
       "      <td>104.1</td>\n",
       "      <td>121.0</td>\n",
       "      <td>0.0</td>\n",
       "    </tr>\n",
       "    <tr>\n",
       "      <th>2</th>\n",
       "      <td>76ca3c41-7d70-4e7d-8e39-d0f21cfc6ff2</td>\n",
       "      <td>2024-01-26 00:15:00</td>\n",
       "      <td>SL-9 JOHANNA</td>\n",
       "      <td>7928835</td>\n",
       "      <td>1194</td>\n",
       "      <td>244938000</td>\n",
       "      <td>2024-01-25 17:13:17</td>\n",
       "      <td>0101000020E610000002DA1497FC62F93F225FD769035D...</td>\n",
       "      <td>0.0</td>\n",
       "      <td>NOT_DEFINED_DEFAULT</td>\n",
       "      <td>8</td>\n",
       "      <td>35</td>\n",
       "      <td>FISHING GROUNDS</td>\n",
       "      <td>4.0</td>\n",
       "      <td>NaT</td>\n",
       "      <td>NaN</td>\n",
       "      <td>SATELLITE</td>\n",
       "      <td>299.0</td>\n",
       "      <td>NaN</td>\n",
       "      <td>NaN</td>\n",
       "    </tr>\n",
       "    <tr>\n",
       "      <th>3</th>\n",
       "      <td>e589c17d-fa97-4af4-8463-c0e299ec6489</td>\n",
       "      <td>2024-01-26 00:15:00</td>\n",
       "      <td>PARADANTA PRIMERO</td>\n",
       "      <td>8516043</td>\n",
       "      <td>621</td>\n",
       "      <td>224378000</td>\n",
       "      <td>2024-01-26 00:10:35</td>\n",
       "      <td>0101000020E6100000E82531CE80194CC01B12F758FA72...</td>\n",
       "      <td>0.0</td>\n",
       "      <td>MOORED</td>\n",
       "      <td>10</td>\n",
       "      <td>58</td>\n",
       "      <td>CALADEROS</td>\n",
       "      <td>6.6</td>\n",
       "      <td>NaT</td>\n",
       "      <td>LOW</td>\n",
       "      <td>TERRESTRIAL</td>\n",
       "      <td>61.0</td>\n",
       "      <td>256.0</td>\n",
       "      <td>0.0</td>\n",
       "    </tr>\n",
       "    <tr>\n",
       "      <th>4</th>\n",
       "      <td>944570d7-7279-4a2c-a00b-b151d413ed47</td>\n",
       "      <td>2024-01-26 00:15:00</td>\n",
       "      <td>HENDRIKA JACOBA</td>\n",
       "      <td>9877389</td>\n",
       "      <td>920</td>\n",
       "      <td>232031183</td>\n",
       "      <td>2024-01-25 05:08:33</td>\n",
       "      <td>0101000020E6100000A4880CAB78830040F47C9B3818D1...</td>\n",
       "      <td>0.4</td>\n",
       "      <td>ENGAGED_IN_FISHING</td>\n",
       "      <td>9</td>\n",
       "      <td>25</td>\n",
       "      <td>FISHING</td>\n",
       "      <td>4.6</td>\n",
       "      <td>2024-01-24 12:15:00</td>\n",
       "      <td>HIGH</td>\n",
       "      <td>TERRESTRIAL</td>\n",
       "      <td>53.0</td>\n",
       "      <td>150.0</td>\n",
       "      <td>0.0</td>\n",
       "    </tr>\n",
       "  </tbody>\n",
       "</table>\n",
       "</div>"
      ],
      "text/plain": [
       "                                     id           timestamp  \\\n",
       "0  5997bb31-ec64-4c7b-8b41-1856ac09da85 2024-01-26 00:15:00   \n",
       "1  0aaec083-c449-4698-9cdf-2b793b368ce8 2024-01-26 00:15:00   \n",
       "2  76ca3c41-7d70-4e7d-8e39-d0f21cfc6ff2 2024-01-26 00:15:00   \n",
       "3  e589c17d-fa97-4af4-8463-c0e299ec6489 2024-01-26 00:15:00   \n",
       "4  944570d7-7279-4a2c-a00b-b151d413ed47 2024-01-26 00:15:00   \n",
       "\n",
       "           ship_name      IMO  vessel_id       mmsi  last_position_time  \\\n",
       "0     ANNELIES ILENA  9204556       1431  261084090 2024-01-23 11:11:01   \n",
       "1   UK153 LUB SENIOR  9599731       1280  246749000 2024-01-25 18:49:58   \n",
       "2       SL-9 JOHANNA  7928835       1194  244938000 2024-01-25 17:13:17   \n",
       "3  PARADANTA PRIMERO  8516043        621  224378000 2024-01-26 00:10:35   \n",
       "4    HENDRIKA JACOBA  9877389        920  232031183 2024-01-25 05:08:33   \n",
       "\n",
       "                                            position  speed  \\\n",
       "0  0101000020E6100000184339D1AE521240ACD75F3C243B...    0.0   \n",
       "1  0101000020E61000007F6993BBB664F93FA80018CFA05D...    0.0   \n",
       "2  0101000020E610000002DA1497FC62F93F225FD769035D...    0.0   \n",
       "3  0101000020E6100000E82531CE80194CC01B12F758FA72...    0.0   \n",
       "4  0101000020E6100000A4880CAB78830040F47C9B3818D1...    0.4   \n",
       "\n",
       "     navigation_status  vessel_length  vessel_width voyage_destination  \\\n",
       "0               MOORED             24           145           IJMUIDEN   \n",
       "1   ENGAGED_IN_FISHING              7            26     FISHING GROUND   \n",
       "2  NOT_DEFINED_DEFAULT              8            35    FISHING GROUNDS   \n",
       "3               MOORED             10            58          CALADEROS   \n",
       "4   ENGAGED_IN_FISHING              9            25            FISHING   \n",
       "\n",
       "   voyage_draught          voyage_eta accuracy position_sensors  course  \\\n",
       "0             8.5 2023-12-12 02:00:00      LOW      TERRESTRIAL   324.4   \n",
       "1             5.0 2023-08-21 00:00:00      LOW      TERRESTRIAL   104.1   \n",
       "2             4.0                 NaT      NaN        SATELLITE   299.0   \n",
       "3             6.6                 NaT      LOW      TERRESTRIAL    61.0   \n",
       "4             4.6 2024-01-24 12:15:00     HIGH      TERRESTRIAL    53.0   \n",
       "\n",
       "   heading  rot  \n",
       "0    212.0  0.0  \n",
       "1    121.0  0.0  \n",
       "2      NaN  NaN  \n",
       "3    256.0  0.0  \n",
       "4    150.0  0.0  "
      ]
     },
     "execution_count": 5,
     "metadata": {},
     "output_type": "execute_result"
    }
   ],
   "source": [
    "spire_positions_df.head()"
   ]
  },
  {
   "cell_type": "markdown",
   "metadata": {},
   "source": [
    "# Analysis"
   ]
  },
  {
   "cell_type": "markdown",
   "metadata": {},
   "source": [
    "## Count records by \"mmsi\""
   ]
  },
  {
   "cell_type": "code",
   "execution_count": 6,
   "metadata": {},
   "outputs": [
    {
     "data": {
      "text/plain": [
       "mmsi\n",
       "224378000     743\n",
       "226347000     743\n",
       "227302000     743\n",
       "228066900     743\n",
       "228215800     743\n",
       "232031183     743\n",
       "244938000     743\n",
       "246749000    1486\n",
       "261084090     743\n",
       "263581000     743\n",
       "Name: id, dtype: int64"
      ]
     },
     "execution_count": 6,
     "metadata": {},
     "output_type": "execute_result"
    }
   ],
   "source": [
    "spire_positions_df.groupby(\"mmsi\")[\"id\"].count()"
   ]
  },
  {
   "cell_type": "markdown",
   "metadata": {},
   "source": [
    "## Count \"ship_name\" by \"mmsi\""
   ]
  },
  {
   "cell_type": "code",
   "execution_count": 7,
   "metadata": {},
   "outputs": [],
   "source": [
    "ship_name_by_mmsi_df = pd.DataFrame()\n",
    "ship_name_by_mmsi_df[\"ship_name_list\"] = spire_positions_df.groupby(\"mmsi\")[\"ship_name\"].unique()\n",
    "ship_name_by_mmsi_df[\"n_ship_name\"] = ship_name_by_mmsi_df[\"ship_name_list\"].str.len()"
   ]
  },
  {
   "cell_type": "code",
   "execution_count": 8,
   "metadata": {},
   "outputs": [
    {
     "data": {
      "text/html": [
       "<div>\n",
       "<style scoped>\n",
       "    .dataframe tbody tr th:only-of-type {\n",
       "        vertical-align: middle;\n",
       "    }\n",
       "\n",
       "    .dataframe tbody tr th {\n",
       "        vertical-align: top;\n",
       "    }\n",
       "\n",
       "    .dataframe thead th {\n",
       "        text-align: right;\n",
       "    }\n",
       "</style>\n",
       "<table border=\"1\" class=\"dataframe\">\n",
       "  <thead>\n",
       "    <tr style=\"text-align: right;\">\n",
       "      <th></th>\n",
       "      <th>ship_name_list</th>\n",
       "      <th>n_ship_name</th>\n",
       "    </tr>\n",
       "    <tr>\n",
       "      <th>mmsi</th>\n",
       "      <th></th>\n",
       "      <th></th>\n",
       "    </tr>\n",
       "  </thead>\n",
       "  <tbody>\n",
       "    <tr>\n",
       "      <th>224378000</th>\n",
       "      <td>[PARADANTA PRIMERO]</td>\n",
       "      <td>1</td>\n",
       "    </tr>\n",
       "    <tr>\n",
       "      <th>226347000</th>\n",
       "      <td>[SCOMBRUS]</td>\n",
       "      <td>1</td>\n",
       "    </tr>\n",
       "    <tr>\n",
       "      <th>227302000</th>\n",
       "      <td>[PRINS BERNHARD]</td>\n",
       "      <td>1</td>\n",
       "    </tr>\n",
       "    <tr>\n",
       "      <th>228066900</th>\n",
       "      <td>[F/V GEVRED]</td>\n",
       "      <td>1</td>\n",
       "    </tr>\n",
       "    <tr>\n",
       "      <th>228215800</th>\n",
       "      <td>[F/V VENT DU NORD II]</td>\n",
       "      <td>1</td>\n",
       "    </tr>\n",
       "    <tr>\n",
       "      <th>232031183</th>\n",
       "      <td>[HENDRIKA JACOBA]</td>\n",
       "      <td>1</td>\n",
       "    </tr>\n",
       "    <tr>\n",
       "      <th>244938000</th>\n",
       "      <td>[SL-9 JOHANNA]</td>\n",
       "      <td>1</td>\n",
       "    </tr>\n",
       "    <tr>\n",
       "      <th>246749000</th>\n",
       "      <td>[UK153 LUB SENIOR, UK153 LUB\"B!VYOR\"]</td>\n",
       "      <td>2</td>\n",
       "    </tr>\n",
       "    <tr>\n",
       "      <th>261084090</th>\n",
       "      <td>[ANNELIES ILENA]</td>\n",
       "      <td>1</td>\n",
       "    </tr>\n",
       "    <tr>\n",
       "      <th>263581000</th>\n",
       "      <td>[FRANCA MORTE]</td>\n",
       "      <td>1</td>\n",
       "    </tr>\n",
       "  </tbody>\n",
       "</table>\n",
       "</div>"
      ],
      "text/plain": [
       "                                  ship_name_list  n_ship_name\n",
       "mmsi                                                         \n",
       "224378000                    [PARADANTA PRIMERO]            1\n",
       "226347000                             [SCOMBRUS]            1\n",
       "227302000                       [PRINS BERNHARD]            1\n",
       "228066900                           [F/V GEVRED]            1\n",
       "228215800                  [F/V VENT DU NORD II]            1\n",
       "232031183                      [HENDRIKA JACOBA]            1\n",
       "244938000                         [SL-9 JOHANNA]            1\n",
       "246749000  [UK153 LUB SENIOR, UK153 LUB\"B!VYOR\"]            2\n",
       "261084090                       [ANNELIES ILENA]            1\n",
       "263581000                         [FRANCA MORTE]            1"
      ]
     },
     "execution_count": 8,
     "metadata": {},
     "output_type": "execute_result"
    }
   ],
   "source": [
    "ship_name_by_mmsi_df"
   ]
  },
  {
   "cell_type": "code",
   "execution_count": 9,
   "metadata": {},
   "outputs": [
    {
     "data": {
      "text/html": [
       "<div>\n",
       "<style scoped>\n",
       "    .dataframe tbody tr th:only-of-type {\n",
       "        vertical-align: middle;\n",
       "    }\n",
       "\n",
       "    .dataframe tbody tr th {\n",
       "        vertical-align: top;\n",
       "    }\n",
       "\n",
       "    .dataframe thead th {\n",
       "        text-align: right;\n",
       "    }\n",
       "</style>\n",
       "<table border=\"1\" class=\"dataframe\">\n",
       "  <thead>\n",
       "    <tr style=\"text-align: right;\">\n",
       "      <th></th>\n",
       "      <th>ship_name_list</th>\n",
       "      <th>n_ship_name</th>\n",
       "    </tr>\n",
       "    <tr>\n",
       "      <th>mmsi</th>\n",
       "      <th></th>\n",
       "      <th></th>\n",
       "    </tr>\n",
       "  </thead>\n",
       "  <tbody>\n",
       "  </tbody>\n",
       "</table>\n",
       "</div>"
      ],
      "text/plain": [
       "Empty DataFrame\n",
       "Columns: [ship_name_list, n_ship_name]\n",
       "Index: []"
      ]
     },
     "execution_count": 9,
     "metadata": {},
     "output_type": "execute_result"
    }
   ],
   "source": [
    "ship_name_by_mmsi_df[ship_name_by_mmsi_df[\"n_ship_name\"] < 1]"
   ]
  },
  {
   "cell_type": "code",
   "execution_count": 10,
   "metadata": {},
   "outputs": [
    {
     "data": {
      "text/html": [
       "<div>\n",
       "<style scoped>\n",
       "    .dataframe tbody tr th:only-of-type {\n",
       "        vertical-align: middle;\n",
       "    }\n",
       "\n",
       "    .dataframe tbody tr th {\n",
       "        vertical-align: top;\n",
       "    }\n",
       "\n",
       "    .dataframe thead th {\n",
       "        text-align: right;\n",
       "    }\n",
       "</style>\n",
       "<table border=\"1\" class=\"dataframe\">\n",
       "  <thead>\n",
       "    <tr style=\"text-align: right;\">\n",
       "      <th></th>\n",
       "      <th>ship_name_list</th>\n",
       "      <th>n_ship_name</th>\n",
       "    </tr>\n",
       "    <tr>\n",
       "      <th>mmsi</th>\n",
       "      <th></th>\n",
       "      <th></th>\n",
       "    </tr>\n",
       "  </thead>\n",
       "  <tbody>\n",
       "    <tr>\n",
       "      <th>246749000</th>\n",
       "      <td>[UK153 LUB SENIOR, UK153 LUB\"B!VYOR\"]</td>\n",
       "      <td>2</td>\n",
       "    </tr>\n",
       "  </tbody>\n",
       "</table>\n",
       "</div>"
      ],
      "text/plain": [
       "                                  ship_name_list  n_ship_name\n",
       "mmsi                                                         \n",
       "246749000  [UK153 LUB SENIOR, UK153 LUB\"B!VYOR\"]            2"
      ]
     },
     "execution_count": 10,
     "metadata": {},
     "output_type": "execute_result"
    }
   ],
   "source": [
    "ship_name_by_mmsi_df[ship_name_by_mmsi_df[\"n_ship_name\"] > 1]"
   ]
  },
  {
   "cell_type": "markdown",
   "metadata": {},
   "source": [
    "## Compute speed from positions and timestamps"
   ]
  },
  {
   "cell_type": "markdown",
   "metadata": {},
   "source": [
    "### Use timestamps to compute the time delta between two consecutive positions of a given \"mmsi\""
   ]
  },
  {
   "cell_type": "code",
   "execution_count": 12,
   "metadata": {},
   "outputs": [],
   "source": [
    "spire_positions_df[\"time_delta_seconds\"] = spire_positions_df.sort_values([\"mmsi\", \"last_position_time\"]).groupby(\"mmsi\")[\"last_position_time\"].diff().dt.total_seconds()"
   ]
  },
  {
   "cell_type": "code",
   "execution_count": 13,
   "metadata": {},
   "outputs": [
    {
     "data": {
      "text/html": [
       "<div>\n",
       "<style scoped>\n",
       "    .dataframe tbody tr th:only-of-type {\n",
       "        vertical-align: middle;\n",
       "    }\n",
       "\n",
       "    .dataframe tbody tr th {\n",
       "        vertical-align: top;\n",
       "    }\n",
       "\n",
       "    .dataframe thead th {\n",
       "        text-align: right;\n",
       "    }\n",
       "</style>\n",
       "<table border=\"1\" class=\"dataframe\">\n",
       "  <thead>\n",
       "    <tr style=\"text-align: right;\">\n",
       "      <th></th>\n",
       "      <th>mmsi</th>\n",
       "      <th>time_delta_seconds</th>\n",
       "    </tr>\n",
       "  </thead>\n",
       "  <tbody>\n",
       "    <tr>\n",
       "      <th>0</th>\n",
       "      <td>261084090</td>\n",
       "      <td>NaN</td>\n",
       "    </tr>\n",
       "    <tr>\n",
       "      <th>1</th>\n",
       "      <td>246749000</td>\n",
       "      <td>777874.0</td>\n",
       "    </tr>\n",
       "    <tr>\n",
       "      <th>2</th>\n",
       "      <td>244938000</td>\n",
       "      <td>NaN</td>\n",
       "    </tr>\n",
       "    <tr>\n",
       "      <th>3</th>\n",
       "      <td>224378000</td>\n",
       "      <td>NaN</td>\n",
       "    </tr>\n",
       "    <tr>\n",
       "      <th>4</th>\n",
       "      <td>232031183</td>\n",
       "      <td>NaN</td>\n",
       "    </tr>\n",
       "  </tbody>\n",
       "</table>\n",
       "</div>"
      ],
      "text/plain": [
       "        mmsi  time_delta_seconds\n",
       "0  261084090                 NaN\n",
       "1  246749000            777874.0\n",
       "2  244938000                 NaN\n",
       "3  224378000                 NaN\n",
       "4  232031183                 NaN"
      ]
     },
     "execution_count": 13,
     "metadata": {},
     "output_type": "execute_result"
    }
   ],
   "source": [
    "spire_positions_df[[\"mmsi\", \"time_delta_seconds\"]].head()"
   ]
  },
  {
   "cell_type": "markdown",
   "metadata": {},
   "source": [
    "### Compute distance by parsing points from \"position\""
   ]
  },
  {
   "cell_type": "markdown",
   "metadata": {},
   "source": [
    "TODO: Check that the distances are computed correctly"
   ]
  },
  {
   "cell_type": "code",
   "execution_count": 14,
   "metadata": {},
   "outputs": [],
   "source": [
    "spire_positions_df[\"position_geometry\"] = GeoSeries.from_wkb(spire_positions_df[\"position\"], crs='EPSG:4326').to_crs('EPSG:5234')"
   ]
  },
  {
   "cell_type": "code",
   "execution_count": 15,
   "metadata": {},
   "outputs": [],
   "source": [
    "spire_positions_df = GeoDataFrame(spire_positions_df)"
   ]
  },
  {
   "cell_type": "code",
   "execution_count": 16,
   "metadata": {},
   "outputs": [],
   "source": [
    "spire_positions_df[\"distance\"] = spire_positions_df.sort_values([\"mmsi\", \"last_position_time\"])[\"position_geometry\"].distance(spire_positions_df.sort_values([\"mmsi\", \"last_position_time\"])[\"position_geometry\"].shift())"
   ]
  },
  {
   "cell_type": "code",
   "execution_count": 17,
   "metadata": {},
   "outputs": [
    {
     "data": {
      "text/html": [
       "<div>\n",
       "<style scoped>\n",
       "    .dataframe tbody tr th:only-of-type {\n",
       "        vertical-align: middle;\n",
       "    }\n",
       "\n",
       "    .dataframe tbody tr th {\n",
       "        vertical-align: top;\n",
       "    }\n",
       "\n",
       "    .dataframe thead th {\n",
       "        text-align: right;\n",
       "    }\n",
       "</style>\n",
       "<table border=\"1\" class=\"dataframe\">\n",
       "  <thead>\n",
       "    <tr style=\"text-align: right;\">\n",
       "      <th></th>\n",
       "      <th>mmsi</th>\n",
       "      <th>time_delta_seconds</th>\n",
       "      <th>distance</th>\n",
       "    </tr>\n",
       "  </thead>\n",
       "  <tbody>\n",
       "    <tr>\n",
       "      <th>3</th>\n",
       "      <td>224378000</td>\n",
       "      <td>NaN</td>\n",
       "      <td>NaN</td>\n",
       "    </tr>\n",
       "    <tr>\n",
       "      <th>14</th>\n",
       "      <td>224378000</td>\n",
       "      <td>905.0</td>\n",
       "      <td>3.352541</td>\n",
       "    </tr>\n",
       "    <tr>\n",
       "      <th>25</th>\n",
       "      <td>224378000</td>\n",
       "      <td>895.0</td>\n",
       "      <td>2.637034</td>\n",
       "    </tr>\n",
       "    <tr>\n",
       "      <th>36</th>\n",
       "      <td>224378000</td>\n",
       "      <td>902.0</td>\n",
       "      <td>4.686830</td>\n",
       "    </tr>\n",
       "    <tr>\n",
       "      <th>47</th>\n",
       "      <td>224378000</td>\n",
       "      <td>889.0</td>\n",
       "      <td>5.373628</td>\n",
       "    </tr>\n",
       "    <tr>\n",
       "      <th>58</th>\n",
       "      <td>224378000</td>\n",
       "      <td>915.0</td>\n",
       "      <td>5.735154</td>\n",
       "    </tr>\n",
       "    <tr>\n",
       "      <th>69</th>\n",
       "      <td>224378000</td>\n",
       "      <td>916.0</td>\n",
       "      <td>1.157203</td>\n",
       "    </tr>\n",
       "    <tr>\n",
       "      <th>80</th>\n",
       "      <td>224378000</td>\n",
       "      <td>860.0</td>\n",
       "      <td>2.584555</td>\n",
       "    </tr>\n",
       "    <tr>\n",
       "      <th>91</th>\n",
       "      <td>224378000</td>\n",
       "      <td>910.0</td>\n",
       "      <td>1.880431</td>\n",
       "    </tr>\n",
       "    <tr>\n",
       "      <th>102</th>\n",
       "      <td>224378000</td>\n",
       "      <td>908.0</td>\n",
       "      <td>5.459524</td>\n",
       "    </tr>\n",
       "  </tbody>\n",
       "</table>\n",
       "</div>"
      ],
      "text/plain": [
       "          mmsi  time_delta_seconds  distance\n",
       "3    224378000                 NaN       NaN\n",
       "14   224378000               905.0  3.352541\n",
       "25   224378000               895.0  2.637034\n",
       "36   224378000               902.0  4.686830\n",
       "47   224378000               889.0  5.373628\n",
       "58   224378000               915.0  5.735154\n",
       "69   224378000               916.0  1.157203\n",
       "80   224378000               860.0  2.584555\n",
       "91   224378000               910.0  1.880431\n",
       "102  224378000               908.0  5.459524"
      ]
     },
     "execution_count": 17,
     "metadata": {},
     "output_type": "execute_result"
    }
   ],
   "source": [
    "spire_positions_df.sort_values([\"mmsi\", \"last_position_time\"])[[\"mmsi\", \"time_delta_seconds\", \"distance\"]].head(10)"
   ]
  },
  {
   "cell_type": "markdown",
   "metadata": {},
   "source": [
    "### Compute speed from distance and time delta"
   ]
  },
  {
   "cell_type": "markdown",
   "metadata": {},
   "source": [
    "1 noeud = 0,514 m/s (source: https://fr.wikipedia.org/wiki/N%C5%93ud_(unit%C3%A9))\n",
    "\n",
    "The distance is in meters, the time delta in seconds. So we can just do the division and then divide by 0.514 to convert it to noeuds."
   ]
  },
  {
   "cell_type": "code",
   "execution_count": 20,
   "metadata": {},
   "outputs": [],
   "source": [
    "spire_positions_df[\"computed_speed_noeud\"] = (spire_positions_df[\"distance\"] / spire_positions_df[\"time_delta_seconds\"]) / 0.514"
   ]
  },
  {
   "cell_type": "code",
   "execution_count": 21,
   "metadata": {},
   "outputs": [
    {
     "data": {
      "text/html": [
       "<div>\n",
       "<style scoped>\n",
       "    .dataframe tbody tr th:only-of-type {\n",
       "        vertical-align: middle;\n",
       "    }\n",
       "\n",
       "    .dataframe tbody tr th {\n",
       "        vertical-align: top;\n",
       "    }\n",
       "\n",
       "    .dataframe thead th {\n",
       "        text-align: right;\n",
       "    }\n",
       "</style>\n",
       "<table border=\"1\" class=\"dataframe\">\n",
       "  <thead>\n",
       "    <tr style=\"text-align: right;\">\n",
       "      <th></th>\n",
       "      <th>mmsi</th>\n",
       "      <th>distance</th>\n",
       "      <th>time_delta_seconds</th>\n",
       "      <th>computed_speed_noeud</th>\n",
       "    </tr>\n",
       "  </thead>\n",
       "  <tbody>\n",
       "    <tr>\n",
       "      <th>3</th>\n",
       "      <td>224378000</td>\n",
       "      <td>NaN</td>\n",
       "      <td>NaN</td>\n",
       "      <td>NaN</td>\n",
       "    </tr>\n",
       "    <tr>\n",
       "      <th>14</th>\n",
       "      <td>224378000</td>\n",
       "      <td>3.352541</td>\n",
       "      <td>905.0</td>\n",
       "      <td>0.007207</td>\n",
       "    </tr>\n",
       "    <tr>\n",
       "      <th>25</th>\n",
       "      <td>224378000</td>\n",
       "      <td>2.637034</td>\n",
       "      <td>895.0</td>\n",
       "      <td>0.005732</td>\n",
       "    </tr>\n",
       "    <tr>\n",
       "      <th>36</th>\n",
       "      <td>224378000</td>\n",
       "      <td>4.686830</td>\n",
       "      <td>902.0</td>\n",
       "      <td>0.010109</td>\n",
       "    </tr>\n",
       "    <tr>\n",
       "      <th>47</th>\n",
       "      <td>224378000</td>\n",
       "      <td>5.373628</td>\n",
       "      <td>889.0</td>\n",
       "      <td>0.011760</td>\n",
       "    </tr>\n",
       "    <tr>\n",
       "      <th>58</th>\n",
       "      <td>224378000</td>\n",
       "      <td>5.735154</td>\n",
       "      <td>915.0</td>\n",
       "      <td>0.012194</td>\n",
       "    </tr>\n",
       "    <tr>\n",
       "      <th>69</th>\n",
       "      <td>224378000</td>\n",
       "      <td>1.157203</td>\n",
       "      <td>916.0</td>\n",
       "      <td>0.002458</td>\n",
       "    </tr>\n",
       "    <tr>\n",
       "      <th>80</th>\n",
       "      <td>224378000</td>\n",
       "      <td>2.584555</td>\n",
       "      <td>860.0</td>\n",
       "      <td>0.005847</td>\n",
       "    </tr>\n",
       "    <tr>\n",
       "      <th>91</th>\n",
       "      <td>224378000</td>\n",
       "      <td>1.880431</td>\n",
       "      <td>910.0</td>\n",
       "      <td>0.004020</td>\n",
       "    </tr>\n",
       "    <tr>\n",
       "      <th>102</th>\n",
       "      <td>224378000</td>\n",
       "      <td>5.459524</td>\n",
       "      <td>908.0</td>\n",
       "      <td>0.011698</td>\n",
       "    </tr>\n",
       "  </tbody>\n",
       "</table>\n",
       "</div>"
      ],
      "text/plain": [
       "          mmsi  distance  time_delta_seconds  computed_speed_noeud\n",
       "3    224378000       NaN                 NaN                   NaN\n",
       "14   224378000  3.352541               905.0              0.007207\n",
       "25   224378000  2.637034               895.0              0.005732\n",
       "36   224378000  4.686830               902.0              0.010109\n",
       "47   224378000  5.373628               889.0              0.011760\n",
       "58   224378000  5.735154               915.0              0.012194\n",
       "69   224378000  1.157203               916.0              0.002458\n",
       "80   224378000  2.584555               860.0              0.005847\n",
       "91   224378000  1.880431               910.0              0.004020\n",
       "102  224378000  5.459524               908.0              0.011698"
      ]
     },
     "execution_count": 21,
     "metadata": {},
     "output_type": "execute_result"
    }
   ],
   "source": [
    "spire_positions_df.sort_values([\"mmsi\", \"last_position_time\"])[[\"mmsi\", \"distance\", \"time_delta_seconds\", \"computed_speed_noeud\"]].head(10)"
   ]
  },
  {
   "cell_type": "markdown",
   "metadata": {},
   "source": [
    "Let's check the number of missing values:"
   ]
  },
  {
   "cell_type": "code",
   "execution_count": 25,
   "metadata": {},
   "outputs": [
    {
     "name": "stdout",
     "output_type": "stream",
     "text": [
      "<class 'pandas.core.frame.DataFrame'>\n",
      "RangeIndex: 8173 entries, 0 to 8172\n",
      "Data columns (total 3 columns):\n",
      " #   Column                Non-Null Count  Dtype  \n",
      "---  ------                --------------  -----  \n",
      " 0   distance              8172 non-null   float64\n",
      " 1   time_delta_seconds    8163 non-null   float64\n",
      " 2   computed_speed_noeud  3898 non-null   float64\n",
      "dtypes: float64(3)\n",
      "memory usage: 191.7 KB\n"
     ]
    }
   ],
   "source": [
    "spire_positions_df[[\"distance\", \"time_delta_seconds\", \"computed_speed_noeud\"]].info()"
   ]
  },
  {
   "cell_type": "markdown",
   "metadata": {},
   "source": [
    "It seems like `computed_speed_noeud` is often not defined. Let's investigate why..."
   ]
  },
  {
   "cell_type": "code",
   "execution_count": 26,
   "metadata": {},
   "outputs": [
    {
     "data": {
      "text/plain": [
       "4265"
      ]
     },
     "execution_count": 26,
     "metadata": {},
     "output_type": "execute_result"
    }
   ],
   "source": [
    "(spire_positions_df[\"time_delta_seconds\"] == 0).sum()"
   ]
  },
  {
   "cell_type": "markdown",
   "metadata": {},
   "source": [
    "The time delta is often equal to 0. This is a sign of duplicate elements in `last_position_time`."
   ]
  },
  {
   "cell_type": "code",
   "execution_count": 28,
   "metadata": {},
   "outputs": [
    {
     "data": {
      "text/plain": [
       "4280"
      ]
     },
     "execution_count": 28,
     "metadata": {},
     "output_type": "execute_result"
    }
   ],
   "source": [
    "spire_positions_df[\"last_position_time\"].duplicated().sum()"
   ]
  },
  {
   "cell_type": "markdown",
   "metadata": {},
   "source": [
    "Question: why does it happen?"
   ]
  },
  {
   "cell_type": "markdown",
   "metadata": {},
   "source": [
    "## Compare computed speed to the speed reported by AIS"
   ]
  },
  {
   "cell_type": "markdown",
   "metadata": {},
   "source": [
    "FIXME: We will ignore the rows where `time_delta_seconds` is 0."
   ]
  },
  {
   "cell_type": "code",
   "execution_count": 29,
   "metadata": {},
   "outputs": [],
   "source": [
    "spire_positions_df = spire_positions_df[spire_positions_df[\"time_delta_seconds\"] > 0]"
   ]
  },
  {
   "cell_type": "code",
   "execution_count": 33,
   "metadata": {},
   "outputs": [
    {
     "data": {
      "text/html": [
       "<div>\n",
       "<style scoped>\n",
       "    .dataframe tbody tr th:only-of-type {\n",
       "        vertical-align: middle;\n",
       "    }\n",
       "\n",
       "    .dataframe tbody tr th {\n",
       "        vertical-align: top;\n",
       "    }\n",
       "\n",
       "    .dataframe thead th {\n",
       "        text-align: right;\n",
       "    }\n",
       "</style>\n",
       "<table border=\"1\" class=\"dataframe\">\n",
       "  <thead>\n",
       "    <tr style=\"text-align: right;\">\n",
       "      <th></th>\n",
       "      <th>speed</th>\n",
       "      <th>computed_speed_noeud</th>\n",
       "    </tr>\n",
       "  </thead>\n",
       "  <tbody>\n",
       "    <tr>\n",
       "      <th>count</th>\n",
       "      <td>3898.000000</td>\n",
       "      <td>3898.000000</td>\n",
       "    </tr>\n",
       "    <tr>\n",
       "      <th>mean</th>\n",
       "      <td>2.537583</td>\n",
       "      <td>3.077734</td>\n",
       "    </tr>\n",
       "    <tr>\n",
       "      <th>std</th>\n",
       "      <td>4.243749</td>\n",
       "      <td>9.319979</td>\n",
       "    </tr>\n",
       "    <tr>\n",
       "      <th>min</th>\n",
       "      <td>0.000000</td>\n",
       "      <td>0.000000</td>\n",
       "    </tr>\n",
       "    <tr>\n",
       "      <th>25%</th>\n",
       "      <td>0.000000</td>\n",
       "      <td>0.004821</td>\n",
       "    </tr>\n",
       "    <tr>\n",
       "      <th>50%</th>\n",
       "      <td>0.000000</td>\n",
       "      <td>0.013786</td>\n",
       "    </tr>\n",
       "    <tr>\n",
       "      <th>75%</th>\n",
       "      <td>4.100000</td>\n",
       "      <td>4.482791</td>\n",
       "    </tr>\n",
       "    <tr>\n",
       "      <th>max</th>\n",
       "      <td>17.400000</td>\n",
       "      <td>485.043573</td>\n",
       "    </tr>\n",
       "  </tbody>\n",
       "</table>\n",
       "</div>"
      ],
      "text/plain": [
       "             speed  computed_speed_noeud\n",
       "count  3898.000000           3898.000000\n",
       "mean      2.537583              3.077734\n",
       "std       4.243749              9.319979\n",
       "min       0.000000              0.000000\n",
       "25%       0.000000              0.004821\n",
       "50%       0.000000              0.013786\n",
       "75%       4.100000              4.482791\n",
       "max      17.400000            485.043573"
      ]
     },
     "execution_count": 33,
     "metadata": {},
     "output_type": "execute_result"
    }
   ],
   "source": [
    "spire_positions_df[[\"speed\", \"computed_speed_noeud\"]].describe()"
   ]
  },
  {
   "cell_type": "markdown",
   "metadata": {},
   "source": [
    "Globally, the two columns look similar, but there are clearly at least one outlier (max speed of `485 noeuds`)."
   ]
  },
  {
   "cell_type": "code",
   "execution_count": 49,
   "metadata": {},
   "outputs": [
    {
     "name": "stderr",
     "output_type": "stream",
     "text": [
      "/home/gcoter/projects/github/dataforgood/12_bloom/.venv/lib/python3.10/site-packages/pandas/plotting/_matplotlib/core.py:1114: UserWarning: No data for colormapping provided via 'c'. Parameters 'cmap' will be ignored\n",
      "  scatter = ax.scatter(\n"
     ]
    },
    {
     "data": {
      "text/plain": [
       "<Axes: xlabel='speed', ylabel='computed_speed_noeud'>"
      ]
     },
     "execution_count": 49,
     "metadata": {},
     "output_type": "execute_result"
    },
    {
     "data": {
      "image/png": "[encoded data removed]",
      "text/plain": [
       "<Figure size 640x480 with 1 Axes>"
      ]
     },
     "metadata": {},
     "output_type": "display_data"
    }
   ],
   "source": [
    "spire_positions_df.plot.scatter(x=\"speed\", y=\"computed_speed_noeud\")"
   ]
  },
  {
   "cell_type": "markdown",
   "metadata": {},
   "source": [
    "## Investigate speed outliers"
   ]
  },
  {
   "cell_type": "markdown",
   "metadata": {},
   "source": [
    "We will consider any speed greater than `30 noeuds` as an outlier."
   ]
  },
  {
   "cell_type": "code",
   "execution_count": 34,
   "metadata": {},
   "outputs": [],
   "source": [
    "speed_outlier_selector = spire_positions_df[\"computed_speed_noeud\"] > 30"
   ]
  },
  {
   "cell_type": "code",
   "execution_count": 35,
   "metadata": {},
   "outputs": [
    {
     "data": {
      "text/plain": [
       "4"
      ]
     },
     "execution_count": 35,
     "metadata": {},
     "output_type": "execute_result"
    }
   ],
   "source": [
    "speed_outlier_selector.sum()"
   ]
  },
  {
   "cell_type": "code",
   "execution_count": 36,
   "metadata": {},
   "outputs": [
    {
     "data": {
      "text/html": [
       "<div>\n",
       "<style scoped>\n",
       "    .dataframe tbody tr th:only-of-type {\n",
       "        vertical-align: middle;\n",
       "    }\n",
       "\n",
       "    .dataframe tbody tr th {\n",
       "        vertical-align: top;\n",
       "    }\n",
       "\n",
       "    .dataframe thead th {\n",
       "        text-align: right;\n",
       "    }\n",
       "</style>\n",
       "<table border=\"1\" class=\"dataframe\">\n",
       "  <thead>\n",
       "    <tr style=\"text-align: right;\">\n",
       "      <th></th>\n",
       "      <th>id</th>\n",
       "      <th>timestamp</th>\n",
       "      <th>ship_name</th>\n",
       "      <th>IMO</th>\n",
       "      <th>vessel_id</th>\n",
       "      <th>mmsi</th>\n",
       "      <th>last_position_time</th>\n",
       "      <th>position</th>\n",
       "      <th>speed</th>\n",
       "      <th>navigation_status</th>\n",
       "      <th>...</th>\n",
       "      <th>voyage_eta</th>\n",
       "      <th>accuracy</th>\n",
       "      <th>position_sensors</th>\n",
       "      <th>course</th>\n",
       "      <th>heading</th>\n",
       "      <th>rot</th>\n",
       "      <th>time_delta_seconds</th>\n",
       "      <th>position_geometry</th>\n",
       "      <th>distance</th>\n",
       "      <th>computed_speed_noeud</th>\n",
       "    </tr>\n",
       "  </thead>\n",
       "  <tbody>\n",
       "    <tr>\n",
       "      <th>1448</th>\n",
       "      <td>13405da0-b65d-4b37-9abd-7c2ff8abd4e2</td>\n",
       "      <td>2024-01-27 09:00:00</td>\n",
       "      <td>FRANCA MORTE</td>\n",
       "      <td>9297694</td>\n",
       "      <td>1507</td>\n",
       "      <td>263581000</td>\n",
       "      <td>2024-01-27 08:34:43.000</td>\n",
       "      <td>0101000020E610000047BE7DE30CF646C016E913B3BDE5...</td>\n",
       "      <td>11.2</td>\n",
       "      <td>ENGAGED_IN_FISHING</td>\n",
       "      <td>...</td>\n",
       "      <td>2024-01-09 08:00:00</td>\n",
       "      <td>HIGH</td>\n",
       "      <td>SATELLITE</td>\n",
       "      <td>31.5</td>\n",
       "      <td>NaN</td>\n",
       "      <td>NaN</td>\n",
       "      <td>1851.857</td>\n",
       "      <td>POINT (-3647642.136 12598234.462)</td>\n",
       "      <td>36224.878543</td>\n",
       "      <td>38.057160</td>\n",
       "    </tr>\n",
       "    <tr>\n",
       "      <th>1950</th>\n",
       "      <td>f08a50dc-f648-4ae1-b860-9dc89d0ea7cd</td>\n",
       "      <td>2024-01-27 20:30:00</td>\n",
       "      <td>PARADANTA PRIMERO</td>\n",
       "      <td>8516043</td>\n",
       "      <td>621</td>\n",
       "      <td>224378000</td>\n",
       "      <td>2024-01-27 20:23:16.758</td>\n",
       "      <td>0101000020E61000007547943032724BC069D343FA8E66...</td>\n",
       "      <td>11.2</td>\n",
       "      <td>MOORED</td>\n",
       "      <td>...</td>\n",
       "      <td>NaT</td>\n",
       "      <td>LOW</td>\n",
       "      <td>SATELLITE</td>\n",
       "      <td>222.4</td>\n",
       "      <td>222.0</td>\n",
       "      <td>0.0</td>\n",
       "      <td>1707.978</td>\n",
       "      <td>POINT (-3560230.778 -14991341.163)</td>\n",
       "      <td>35901.222551</td>\n",
       "      <td>40.894401</td>\n",
       "    </tr>\n",
       "    <tr>\n",
       "      <th>3061</th>\n",
       "      <td>a3c659c0-a74c-4259-9b99-34a517a56f72</td>\n",
       "      <td>2024-01-28 21:45:00</td>\n",
       "      <td>PARADANTA PRIMERO</td>\n",
       "      <td>8516043</td>\n",
       "      <td>621</td>\n",
       "      <td>224378000</td>\n",
       "      <td>2024-01-28 21:19:44.000</td>\n",
       "      <td>0101000020E61000003309AC5685834DC03EB324404D0F...</td>\n",
       "      <td>10.1</td>\n",
       "      <td>MOORED</td>\n",
       "      <td>...</td>\n",
       "      <td>NaT</td>\n",
       "      <td>LOW</td>\n",
       "      <td>SATELLITE</td>\n",
       "      <td>220.4</td>\n",
       "      <td>218.0</td>\n",
       "      <td>0.0</td>\n",
       "      <td>902.090</td>\n",
       "      <td>POINT (-3003989.154 -14834638.179)</td>\n",
       "      <td>26601.085849</td>\n",
       "      <td>57.370202</td>\n",
       "    </tr>\n",
       "    <tr>\n",
       "      <th>6123</th>\n",
       "      <td>bceed5d2-5f24-4826-a85d-48f6dd319f56</td>\n",
       "      <td>2024-01-31 19:15:00</td>\n",
       "      <td>FRANCA MORTE</td>\n",
       "      <td>9297694</td>\n",
       "      <td>1507</td>\n",
       "      <td>263581000</td>\n",
       "      <td>2024-01-31 18:44:26.000</td>\n",
       "      <td>0101000020E6100000E91B0378ACC046C0D99F594CCB27...</td>\n",
       "      <td>3.8</td>\n",
       "      <td>ENGAGED_IN_FISHING</td>\n",
       "      <td>...</td>\n",
       "      <td>2024-01-09 08:00:00</td>\n",
       "      <td>HIGH</td>\n",
       "      <td>SATELLITE</td>\n",
       "      <td>49.3</td>\n",
       "      <td>NaN</td>\n",
       "      <td>NaN</td>\n",
       "      <td>31.099</td>\n",
       "      <td>POINT (-3625354.367 12524148.674)</td>\n",
       "      <td>7753.366221</td>\n",
       "      <td>485.043573</td>\n",
       "    </tr>\n",
       "  </tbody>\n",
       "</table>\n",
       "<p>4 rows × 24 columns</p>\n",
       "</div>"
      ],
      "text/plain": [
       "                                        id           timestamp  \\\n",
       "1448  13405da0-b65d-4b37-9abd-7c2ff8abd4e2 2024-01-27 09:00:00   \n",
       "1950  f08a50dc-f648-4ae1-b860-9dc89d0ea7cd 2024-01-27 20:30:00   \n",
       "3061  a3c659c0-a74c-4259-9b99-34a517a56f72 2024-01-28 21:45:00   \n",
       "6123  bceed5d2-5f24-4826-a85d-48f6dd319f56 2024-01-31 19:15:00   \n",
       "\n",
       "              ship_name      IMO  vessel_id       mmsi  \\\n",
       "1448       FRANCA MORTE  9297694       1507  263581000   \n",
       "1950  PARADANTA PRIMERO  8516043        621  224378000   \n",
       "3061  PARADANTA PRIMERO  8516043        621  224378000   \n",
       "6123       FRANCA MORTE  9297694       1507  263581000   \n",
       "\n",
       "          last_position_time  \\\n",
       "1448 2024-01-27 08:34:43.000   \n",
       "1950 2024-01-27 20:23:16.758   \n",
       "3061 2024-01-28 21:19:44.000   \n",
       "6123 2024-01-31 18:44:26.000   \n",
       "\n",
       "                                               position  speed  \\\n",
       "1448  0101000020E610000047BE7DE30CF646C016E913B3BDE5...   11.2   \n",
       "1950  0101000020E61000007547943032724BC069D343FA8E66...   11.2   \n",
       "3061  0101000020E61000003309AC5685834DC03EB324404D0F...   10.1   \n",
       "6123  0101000020E6100000E91B0378ACC046C0D99F594CCB27...    3.8   \n",
       "\n",
       "       navigation_status  ...          voyage_eta  accuracy position_sensors  \\\n",
       "1448  ENGAGED_IN_FISHING  ... 2024-01-09 08:00:00      HIGH        SATELLITE   \n",
       "1950              MOORED  ...                 NaT       LOW        SATELLITE   \n",
       "3061              MOORED  ...                 NaT       LOW        SATELLITE   \n",
       "6123  ENGAGED_IN_FISHING  ... 2024-01-09 08:00:00      HIGH        SATELLITE   \n",
       "\n",
       "      course heading  rot time_delta_seconds  \\\n",
       "1448    31.5     NaN  NaN           1851.857   \n",
       "1950   222.4   222.0  0.0           1707.978   \n",
       "3061   220.4   218.0  0.0            902.090   \n",
       "6123    49.3     NaN  NaN             31.099   \n",
       "\n",
       "                       position_geometry      distance  computed_speed_noeud  \n",
       "1448   POINT (-3647642.136 12598234.462)  36224.878543             38.057160  \n",
       "1950  POINT (-3560230.778 -14991341.163)  35901.222551             40.894401  \n",
       "3061  POINT (-3003989.154 -14834638.179)  26601.085849             57.370202  \n",
       "6123   POINT (-3625354.367 12524148.674)   7753.366221            485.043573  \n",
       "\n",
       "[4 rows x 24 columns]"
      ]
     },
     "execution_count": 36,
     "metadata": {},
     "output_type": "execute_result"
    }
   ],
   "source": [
    "spire_positions_df[speed_outlier_selector]"
   ]
  },
  {
   "cell_type": "markdown",
   "metadata": {},
   "source": [
    "### Focus on FRANCA MORTE (MMSI: 263581000)"
   ]
  },
  {
   "cell_type": "code",
   "execution_count": 37,
   "metadata": {},
   "outputs": [],
   "source": [
    "franca_morte_selector = spire_positions_df[\"mmsi\"] == \"263581000\""
   ]
  },
  {
   "cell_type": "code",
   "execution_count": 44,
   "metadata": {},
   "outputs": [],
   "source": [
    "franca_morte_df = spire_positions_df[franca_morte_selector].sort_values(\"last_position_time\")[[\"last_position_time\", \"position_geometry\", \"distance\", \"time_delta_seconds\", \"speed\", \"computed_speed_noeud\"]].reset_index(drop=True)"
   ]
  },
  {
   "cell_type": "code",
   "execution_count": 45,
   "metadata": {},
   "outputs": [
    {
     "data": {
      "text/html": [
       "<div>\n",
       "<style scoped>\n",
       "    .dataframe tbody tr th:only-of-type {\n",
       "        vertical-align: middle;\n",
       "    }\n",
       "\n",
       "    .dataframe tbody tr th {\n",
       "        vertical-align: top;\n",
       "    }\n",
       "\n",
       "    .dataframe thead th {\n",
       "        text-align: right;\n",
       "    }\n",
       "</style>\n",
       "<table border=\"1\" class=\"dataframe\">\n",
       "  <thead>\n",
       "    <tr style=\"text-align: right;\">\n",
       "      <th></th>\n",
       "      <th>last_position_time</th>\n",
       "      <th>position_geometry</th>\n",
       "      <th>distance</th>\n",
       "      <th>time_delta_seconds</th>\n",
       "      <th>speed</th>\n",
       "      <th>computed_speed_noeud</th>\n",
       "    </tr>\n",
       "  </thead>\n",
       "  <tbody>\n",
       "    <tr>\n",
       "      <th>0</th>\n",
       "      <td>2024-01-26 00:02:10</td>\n",
       "      <td>POINT (-3535691.456 12639858.567)</td>\n",
       "      <td>5501.778290</td>\n",
       "      <td>2915.099</td>\n",
       "      <td>4.0</td>\n",
       "      <td>3.671865</td>\n",
       "    </tr>\n",
       "    <tr>\n",
       "      <th>1</th>\n",
       "      <td>2024-01-26 00:17:18</td>\n",
       "      <td>POINT (-3534305.815 12641038.047)</td>\n",
       "      <td>1819.663232</td>\n",
       "      <td>908.000</td>\n",
       "      <td>3.7</td>\n",
       "      <td>3.898900</td>\n",
       "    </tr>\n",
       "    <tr>\n",
       "      <th>2</th>\n",
       "      <td>2024-01-26 00:30:10</td>\n",
       "      <td>POINT (-3533227.719 12642019.463)</td>\n",
       "      <td>1457.898366</td>\n",
       "      <td>772.000</td>\n",
       "      <td>2.6</td>\n",
       "      <td>3.674065</td>\n",
       "    </tr>\n",
       "    <tr>\n",
       "      <th>3</th>\n",
       "      <td>2024-01-26 00:56:59</td>\n",
       "      <td>POINT (-3531049.754 12644225.580)</td>\n",
       "      <td>3100.078043</td>\n",
       "      <td>1609.000</td>\n",
       "      <td>3.1</td>\n",
       "      <td>3.748465</td>\n",
       "    </tr>\n",
       "    <tr>\n",
       "      <th>4</th>\n",
       "      <td>2024-01-26 01:34:19</td>\n",
       "      <td>POINT (-3527877.726 12647470.557)</td>\n",
       "      <td>4537.801205</td>\n",
       "      <td>2240.000</td>\n",
       "      <td>3.6</td>\n",
       "      <td>3.941253</td>\n",
       "    </tr>\n",
       "    <tr>\n",
       "      <th>...</th>\n",
       "      <td>...</td>\n",
       "      <td>...</td>\n",
       "      <td>...</td>\n",
       "      <td>...</td>\n",
       "      <td>...</td>\n",
       "      <td>...</td>\n",
       "    </tr>\n",
       "    <tr>\n",
       "      <th>267</th>\n",
       "      <td>2024-02-02 14:13:37</td>\n",
       "      <td>POINT (-3646733.663 12507503.594)</td>\n",
       "      <td>1554.321309</td>\n",
       "      <td>631.000</td>\n",
       "      <td>3.9</td>\n",
       "      <td>4.792348</td>\n",
       "    </tr>\n",
       "    <tr>\n",
       "      <th>268</th>\n",
       "      <td>2024-02-02 14:27:46</td>\n",
       "      <td>POINT (-3645337.336 12509114.339)</td>\n",
       "      <td>2131.719704</td>\n",
       "      <td>849.000</td>\n",
       "      <td>4.3</td>\n",
       "      <td>4.884941</td>\n",
       "    </tr>\n",
       "    <tr>\n",
       "      <th>269</th>\n",
       "      <td>2024-02-02 15:00:09</td>\n",
       "      <td>POINT (-3642612.221 12513103.750)</td>\n",
       "      <td>4831.319824</td>\n",
       "      <td>1943.000</td>\n",
       "      <td>4.6</td>\n",
       "      <td>4.837599</td>\n",
       "    </tr>\n",
       "    <tr>\n",
       "      <th>270</th>\n",
       "      <td>2024-02-02 15:32:05</td>\n",
       "      <td>POINT (-3642927.138 12512471.716)</td>\n",
       "      <td>706.144086</td>\n",
       "      <td>1916.000</td>\n",
       "      <td>10.6</td>\n",
       "      <td>0.717026</td>\n",
       "    </tr>\n",
       "    <tr>\n",
       "      <th>271</th>\n",
       "      <td>2024-02-02 16:47:07</td>\n",
       "      <td>POINT (-3652211.230 12500021.557)</td>\n",
       "      <td>15530.641362</td>\n",
       "      <td>4502.000</td>\n",
       "      <td>4.2</td>\n",
       "      <td>6.711518</td>\n",
       "    </tr>\n",
       "  </tbody>\n",
       "</table>\n",
       "<p>272 rows × 6 columns</p>\n",
       "</div>"
      ],
      "text/plain": [
       "     last_position_time                  position_geometry      distance  \\\n",
       "0   2024-01-26 00:02:10  POINT (-3535691.456 12639858.567)   5501.778290   \n",
       "1   2024-01-26 00:17:18  POINT (-3534305.815 12641038.047)   1819.663232   \n",
       "2   2024-01-26 00:30:10  POINT (-3533227.719 12642019.463)   1457.898366   \n",
       "3   2024-01-26 00:56:59  POINT (-3531049.754 12644225.580)   3100.078043   \n",
       "4   2024-01-26 01:34:19  POINT (-3527877.726 12647470.557)   4537.801205   \n",
       "..                  ...                                ...           ...   \n",
       "267 2024-02-02 14:13:37  POINT (-3646733.663 12507503.594)   1554.321309   \n",
       "268 2024-02-02 14:27:46  POINT (-3645337.336 12509114.339)   2131.719704   \n",
       "269 2024-02-02 15:00:09  POINT (-3642612.221 12513103.750)   4831.319824   \n",
       "270 2024-02-02 15:32:05  POINT (-3642927.138 12512471.716)    706.144086   \n",
       "271 2024-02-02 16:47:07  POINT (-3652211.230 12500021.557)  15530.641362   \n",
       "\n",
       "     time_delta_seconds  speed  computed_speed_noeud  \n",
       "0              2915.099    4.0              3.671865  \n",
       "1               908.000    3.7              3.898900  \n",
       "2               772.000    2.6              3.674065  \n",
       "3              1609.000    3.1              3.748465  \n",
       "4              2240.000    3.6              3.941253  \n",
       "..                  ...    ...                   ...  \n",
       "267             631.000    3.9              4.792348  \n",
       "268             849.000    4.3              4.884941  \n",
       "269            1943.000    4.6              4.837599  \n",
       "270            1916.000   10.6              0.717026  \n",
       "271            4502.000    4.2              6.711518  \n",
       "\n",
       "[272 rows x 6 columns]"
      ]
     },
     "execution_count": 45,
     "metadata": {},
     "output_type": "execute_result"
    }
   ],
   "source": [
    "franca_morte_df"
   ]
  },
  {
   "cell_type": "markdown",
   "metadata": {},
   "source": [
    "Let's look at the data points around the anomaly."
   ]
  },
  {
   "cell_type": "code",
   "execution_count": 46,
   "metadata": {},
   "outputs": [
    {
     "data": {
      "text/plain": [
       "206"
      ]
     },
     "execution_count": 46,
     "metadata": {},
     "output_type": "execute_result"
    }
   ],
   "source": [
    "franca_morte_df[\"computed_speed_noeud\"].argmax()"
   ]
  },
  {
   "cell_type": "code",
   "execution_count": 47,
   "metadata": {},
   "outputs": [
    {
     "data": {
      "text/html": [
       "<div>\n",
       "<style scoped>\n",
       "    .dataframe tbody tr th:only-of-type {\n",
       "        vertical-align: middle;\n",
       "    }\n",
       "\n",
       "    .dataframe tbody tr th {\n",
       "        vertical-align: top;\n",
       "    }\n",
       "\n",
       "    .dataframe thead th {\n",
       "        text-align: right;\n",
       "    }\n",
       "</style>\n",
       "<table border=\"1\" class=\"dataframe\">\n",
       "  <thead>\n",
       "    <tr style=\"text-align: right;\">\n",
       "      <th></th>\n",
       "      <th>last_position_time</th>\n",
       "      <th>position_geometry</th>\n",
       "      <th>distance</th>\n",
       "      <th>time_delta_seconds</th>\n",
       "      <th>speed</th>\n",
       "      <th>computed_speed_noeud</th>\n",
       "    </tr>\n",
       "  </thead>\n",
       "  <tbody>\n",
       "    <tr>\n",
       "      <th>200</th>\n",
       "      <td>2024-01-31 15:55:05.000</td>\n",
       "      <td>POINT (-3627074.769 12546418.975)</td>\n",
       "      <td>4557.050079</td>\n",
       "      <td>1971.000</td>\n",
       "      <td>4.3</td>\n",
       "      <td>4.498151</td>\n",
       "    </tr>\n",
       "    <tr>\n",
       "      <th>201</th>\n",
       "      <td>2024-01-31 16:08:44.000</td>\n",
       "      <td>POINT (-3626465.982 12544692.536)</td>\n",
       "      <td>1830.632344</td>\n",
       "      <td>819.000</td>\n",
       "      <td>4.7</td>\n",
       "      <td>4.348647</td>\n",
       "    </tr>\n",
       "    <tr>\n",
       "      <th>202</th>\n",
       "      <td>2024-01-31 17:11:22.126</td>\n",
       "      <td>POINT (-3626464.270 12544213.562)</td>\n",
       "      <td>478.976243</td>\n",
       "      <td>3758.126</td>\n",
       "      <td>4.6</td>\n",
       "      <td>0.247959</td>\n",
       "    </tr>\n",
       "    <tr>\n",
       "      <th>203</th>\n",
       "      <td>2024-01-31 17:33:28.000</td>\n",
       "      <td>POINT (-3625622.984 12533389.203)</td>\n",
       "      <td>10857.003525</td>\n",
       "      <td>1325.874</td>\n",
       "      <td>4.1</td>\n",
       "      <td>15.931058</td>\n",
       "    </tr>\n",
       "    <tr>\n",
       "      <th>204</th>\n",
       "      <td>2024-01-31 17:59:06.000</td>\n",
       "      <td>POINT (-3625634.320 12530022.248)</td>\n",
       "      <td>3366.974381</td>\n",
       "      <td>1538.000</td>\n",
       "      <td>2.7</td>\n",
       "      <td>4.259125</td>\n",
       "    </tr>\n",
       "    <tr>\n",
       "      <th>205</th>\n",
       "      <td>2024-01-31 18:43:54.901</td>\n",
       "      <td>POINT (-3625540.242 12531899.812)</td>\n",
       "      <td>1879.919616</td>\n",
       "      <td>2688.901</td>\n",
       "      <td>3.2</td>\n",
       "      <td>1.360196</td>\n",
       "    </tr>\n",
       "    <tr>\n",
       "      <th>206</th>\n",
       "      <td>2024-01-31 18:44:26.000</td>\n",
       "      <td>POINT (-3625354.367 12524148.674)</td>\n",
       "      <td>7753.366221</td>\n",
       "      <td>31.099</td>\n",
       "      <td>3.8</td>\n",
       "      <td>485.043573</td>\n",
       "    </tr>\n",
       "    <tr>\n",
       "      <th>207</th>\n",
       "      <td>2024-01-31 19:06:58.000</td>\n",
       "      <td>POINT (-3625766.607 12521153.605)</td>\n",
       "      <td>3023.306049</td>\n",
       "      <td>1352.000</td>\n",
       "      <td>3.5</td>\n",
       "      <td>4.350531</td>\n",
       "    </tr>\n",
       "    <tr>\n",
       "      <th>208</th>\n",
       "      <td>2024-01-31 19:27:18.000</td>\n",
       "      <td>POINT (-3626433.015 12518619.622)</td>\n",
       "      <td>2620.146305</td>\n",
       "      <td>1220.000</td>\n",
       "      <td>3.4</td>\n",
       "      <td>4.178329</td>\n",
       "    </tr>\n",
       "    <tr>\n",
       "      <th>209</th>\n",
       "      <td>2024-01-31 19:32:56.000</td>\n",
       "      <td>POINT (-3626511.913 12517907.532)</td>\n",
       "      <td>716.447703</td>\n",
       "      <td>338.000</td>\n",
       "      <td>4.4</td>\n",
       "      <td>4.123867</td>\n",
       "    </tr>\n",
       "  </tbody>\n",
       "</table>\n",
       "</div>"
      ],
      "text/plain": [
       "         last_position_time                  position_geometry      distance  \\\n",
       "200 2024-01-31 15:55:05.000  POINT (-3627074.769 12546418.975)   4557.050079   \n",
       "201 2024-01-31 16:08:44.000  POINT (-3626465.982 12544692.536)   1830.632344   \n",
       "202 2024-01-31 17:11:22.126  POINT (-3626464.270 12544213.562)    478.976243   \n",
       "203 2024-01-31 17:33:28.000  POINT (-3625622.984 12533389.203)  10857.003525   \n",
       "204 2024-01-31 17:59:06.000  POINT (-3625634.320 12530022.248)   3366.974381   \n",
       "205 2024-01-31 18:43:54.901  POINT (-3625540.242 12531899.812)   1879.919616   \n",
       "206 2024-01-31 18:44:26.000  POINT (-3625354.367 12524148.674)   7753.366221   \n",
       "207 2024-01-31 19:06:58.000  POINT (-3625766.607 12521153.605)   3023.306049   \n",
       "208 2024-01-31 19:27:18.000  POINT (-3626433.015 12518619.622)   2620.146305   \n",
       "209 2024-01-31 19:32:56.000  POINT (-3626511.913 12517907.532)    716.447703   \n",
       "\n",
       "     time_delta_seconds  speed  computed_speed_noeud  \n",
       "200            1971.000    4.3              4.498151  \n",
       "201             819.000    4.7              4.348647  \n",
       "202            3758.126    4.6              0.247959  \n",
       "203            1325.874    4.1             15.931058  \n",
       "204            1538.000    2.7              4.259125  \n",
       "205            2688.901    3.2              1.360196  \n",
       "206              31.099    3.8            485.043573  \n",
       "207            1352.000    3.5              4.350531  \n",
       "208            1220.000    3.4              4.178329  \n",
       "209             338.000    4.4              4.123867  "
      ]
     },
     "execution_count": 47,
     "metadata": {},
     "output_type": "execute_result"
    }
   ],
   "source": [
    "franca_morte_df.iloc[200:210]"
   ]
  },
  {
   "cell_type": "markdown",
   "metadata": {},
   "source": [
    "TODO: Understand what's going on"
   ]
  },
  {
   "cell_type": "code",
   "execution_count": null,
   "metadata": {},
   "outputs": [],
   "source": []
  }
 ],
 "metadata": {
  "kernelspec": {
   "display_name": ".venv",
   "language": "python",
   "name": "python3"
  },
  "language_info": {
   "codemirror_mode": {
    "name": "ipython",
    "version": 3
   },
   "file_extension": ".py",
   "mimetype": "text/x-python",
   "name": "python",
   "nbconvert_exporter": "python",
   "pygments_lexer": "ipython3",
   "version": "3.10.12"
  }
 },
 "nbformat": 4,
 "nbformat_minor": 2
}
